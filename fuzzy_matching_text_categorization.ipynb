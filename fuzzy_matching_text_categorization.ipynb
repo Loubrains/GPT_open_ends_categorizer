{
 "cells": [
  {
   "cell_type": "code",
   "execution_count": 24,
   "metadata": {},
   "outputs": [],
   "source": [
    "import pandas as pd\n",
    "import re\n",
    "import chardet\n",
    "from nltk.stem import WordNetLemmatizer\n",
    "from thefuzz import fuzz\n",
    "from thefuzz import process"
   ]
  },
  {
   "cell_type": "code",
   "execution_count": 25,
   "metadata": {},
   "outputs": [],
   "source": [
    "# Clean and tokenize text\n",
    "def preprocess_text(text):\n",
    "    # Lowercase, removing special characters and numbers\n",
    "    text = str(text).lower()\n",
    "    text = re.sub(\n",
    "        r\"\\s+\", \" \", text\n",
    "    )  # Convert one or more of any kind of space to single space\n",
    "    text = re.sub(r\"[^a-z0-9\\s]\", \"\", text)  # Remove special characters\n",
    "    text = text.strip()\n",
    "\n",
    "# Fuzzy match given string to entire dataframe\n",
    "def fuzzy_match_dataframe(df, match_string):\n",
    "    # Fuzzy match element with given string\n",
    "    def fuzzy_match(element):\n",
    "        return fuzz.WRatio(match_string, str(element))\n",
    "\n",
    "    # Prepare get scores and format result: (response, score, index)\n",
    "    results = []\n",
    "    for row in df.itertuples(index=True, name=None):\n",
    "        row_index = row[0]\n",
    "        for col_index, response in enumerate(row[1:]):\n",
    "            score = fuzzy_match(response)\n",
    "            # Append a dictionary for each matching record\n",
    "            results.append({'response': response, 'score': score}) # can add ```'row_index': row_index, 'col_index': col_index```\n",
    "\n",
    "    # Convert list of dictionaries to DataFrame\n",
    "    result_df = pd.DataFrame(results)\n",
    "\n",
    "    return result_df"
   ]
  },
  {
   "cell_type": "code",
   "execution_count": 26,
   "metadata": {},
   "outputs": [
    {
     "name": "stdout",
     "output_type": "stream",
     "text": [
      "Loading data...\n",
      "Pre-processing data...\n"
     ]
    }
   ],
   "source": [
    "# ------------------ Load and process data ------------------\n",
    "file_name_1 = 'SST Member Viewership Study - B3a open ends.csv'\n",
    "file_name_2 = 'SST Member Viewership Study - B4a open ends.csv'\n",
    "file_name_3 = 'SST Member Viewership Study - Top titles to match.csv'\n",
    "\n",
    "print(\"Loading data...\")\n",
    "with open(file_name_1, 'rb') as file:\n",
    "    encoding = chardet.detect(file.read())['encoding']\n",
    "df_tv = pd.read_csv(file_name_1, encoding=encoding)\n",
    "\n",
    "with open(file_name_2, 'rb') as file:\n",
    "    encoding = chardet.detect(file.read())['encoding']\n",
    "df_movies = pd.read_csv(file_name_2, encoding=encoding)\n",
    "\n",
    "with open(file_name_3, 'rb') as file:\n",
    "    encoding = chardet.detect(file.read())['encoding']\n",
    "df_titles = pd.read_csv(file_name_3, encoding=encoding)\n",
    "\n",
    "print(\"Pre-processing data...\")\n",
    "df_tv_processed = df_tv.iloc[:, 1:].map(preprocess_text)\n",
    "df_movies_processed = df_movies.iloc[:, 1:].map(preprocess_text)"
   ]
  },
  {
   "cell_type": "code",
   "execution_count": 27,
   "metadata": {},
   "outputs": [
    {
     "name": "stdout",
     "output_type": "stream",
     "text": [
      "Fuzzy matching...\n"
     ]
    }
   ],
   "source": [
    "# ------------------ Fuzzy match ------------------\n",
    "print(\"Fuzzy matching...\")\n",
    "string_to_match = \"Halo\"\n",
    "fuzzy_match_Halo = fuzzy_match_dataframe(df_tv_processed, string_to_match)"
   ]
  },
  {
   "cell_type": "code",
   "execution_count": 28,
   "metadata": {},
   "outputs": [
    {
     "name": "stdout",
     "output_type": "stream",
     "text": [
      "Sorted matches:\n",
      "        response  score\n",
      "65917      halo    100\n",
      "176397     halo    100\n",
      "200370     halo    100\n",
      "124956     halo    100\n",
      "227898     halo    100\n",
      "...         ...    ...\n",
      "59630      1923      0\n",
      "25454    dexter      0\n",
      "59629      1883      0\n",
      "191610     1893      0\n",
      "90934      1923      0\n",
      "\n",
      "[232404 rows x 2 columns]\n"
     ]
    }
   ],
   "source": [
    "fuzzy_match_Halo_sorted = fuzzy_match_Halo.sort_values(by='score', ascending=False)\n",
    "print(\"Sorted matches:\\n\", fuzzy_match_Halo_sorted)"
   ]
  },
  {
   "cell_type": "code",
   "execution_count": 29,
   "metadata": {},
   "outputs": [
    {
     "name": "stdout",
     "output_type": "stream",
     "text": [
      "Highscore matches:\n",
      "                                response  score\n",
      "24                                 halo    100\n",
      "162     el rey de tulsa halo yelowstone     90\n",
      "306                                halo    100\n",
      "312                                halo    100\n",
      "349                      hallos iramban     77\n",
      "...                                 ...    ...\n",
      "232045                             halo    100\n",
      "232068                         house md     60\n",
      "232296                             halo    100\n",
      "232326                             halo    100\n",
      "232392                             halo    100\n",
      "\n",
      "[3542 rows x 2 columns]\n"
     ]
    }
   ],
   "source": [
    "fuzz_threshold = 60\n",
    "fuzzy_matched_halo_50plus = fuzzy_match_Halo[fuzzy_match_Halo['score'] >= fuzz_threshold]\n",
    "print(\"Highscore matches:\\n\", fuzzy_matched_halo_50plus)"
   ]
  },
  {
   "cell_type": "code",
   "execution_count": 30,
   "metadata": {},
   "outputs": [],
   "source": [
    "# Initialize an empty dictionary to hold each DataFrame\n",
    "df_all_coded = {}\n",
    "\n",
    "for title in df_titles['TV Shows']:\n",
    "    # Get the result from the fuzzy_match_dataframe function\n",
    "    fuzzy_match_results = fuzzy_match_dataframe(df_tv_processed, title)\n",
    "    results_highscore = fuzzy_match_results[fuzzy_match_results['score'] >= fuzz_threshold]\n",
    "\n",
    "    # Create a new DataFrame for each title\n",
    "    df_coded = pd.DataFrame()\n",
    "    df_coded[title] = results_highscore['response']\n",
    "    df_coded[f\"{title}_score\"] = results_highscore['score']\n",
    "\n",
    "    # Store the DataFrame in the dictionary\n",
    "    df_all_coded[title] = df_coded\n"
   ]
  },
  {
   "cell_type": "code",
   "execution_count": 31,
   "metadata": {},
   "outputs": [
    {
     "name": "stdout",
     "output_type": "stream",
     "text": [
      "Highscore matches against '1923':\n",
      "         1923  1923_score\n",
      "109     1923         100\n",
      "240     1923         100\n",
      "463     1923         100\n",
      "554     1923         100\n",
      "691     1923         100\n",
      "...      ...         ...\n",
      "231612  1923         100\n",
      "232268  1923         100\n",
      "232280  1923         100\n",
      "232291  1923         100\n",
      "232399  1923         100\n",
      "\n",
      "[1372 rows x 2 columns]\n"
     ]
    }
   ],
   "source": [
    "print(\"Highscore matches against '1923':\\n\", df_all_coded['1923'])"
   ]
  }
 ],
 "metadata": {
  "kernelspec": {
   "display_name": "Python 3",
   "language": "python",
   "name": "python3"
  },
  "language_info": {
   "codemirror_mode": {
    "name": "ipython",
    "version": 3
   },
   "file_extension": ".py",
   "mimetype": "text/x-python",
   "name": "python",
   "nbconvert_exporter": "python",
   "pygments_lexer": "ipython3",
   "version": "3.11.5"
  }
 },
 "nbformat": 4,
 "nbformat_minor": 2
}
